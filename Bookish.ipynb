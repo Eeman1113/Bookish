{
  "cells": [
    {
      "cell_type": "code",
      "execution_count": 7,
      "metadata": {
        "colab": {
          "base_uri": "https://localhost:8080/"
        },
        "id": "LtMEyMNlNjUH",
        "outputId": "40859e0d-c129-4709-ab05-50c12adbbae8"
      },
      "outputs": [
        {
          "name": "stdout",
          "output_type": "stream",
          "text": [
            "Looking in indexes: https://pypi.org/simple, https://us-python.pkg.dev/colab-wheels/public/simple/\n",
            "Requirement already satisfied: openai in /usr/local/lib/python3.9/dist-packages (0.27.2)\n",
            "Requirement already satisfied: requests>=2.20 in /usr/local/lib/python3.9/dist-packages (from openai) (2.25.1)\n",
            "Requirement already satisfied: aiohttp in /usr/local/lib/python3.9/dist-packages (from openai) (3.8.4)\n",
            "Requirement already satisfied: tqdm in /usr/local/lib/python3.9/dist-packages (from openai) (4.65.0)\n",
            "Requirement already satisfied: certifi>=2017.4.17 in /usr/local/lib/python3.9/dist-packages (from requests>=2.20->openai) (2022.12.7)\n",
            "Requirement already satisfied: urllib3<1.27,>=1.21.1 in /usr/local/lib/python3.9/dist-packages (from requests>=2.20->openai) (1.26.15)\n",
            "Requirement already satisfied: chardet<5,>=3.0.2 in /usr/local/lib/python3.9/dist-packages (from requests>=2.20->openai) (4.0.0)\n",
            "Requirement already satisfied: idna<3,>=2.5 in /usr/local/lib/python3.9/dist-packages (from requests>=2.20->openai) (2.10)\n",
            "Requirement already satisfied: aiosignal>=1.1.2 in /usr/local/lib/python3.9/dist-packages (from aiohttp->openai) (1.3.1)\n",
            "Requirement already satisfied: charset-normalizer<4.0,>=2.0 in /usr/local/lib/python3.9/dist-packages (from aiohttp->openai) (3.1.0)\n",
            "Requirement already satisfied: multidict<7.0,>=4.5 in /usr/local/lib/python3.9/dist-packages (from aiohttp->openai) (6.0.4)\n",
            "Requirement already satisfied: frozenlist>=1.1.1 in /usr/local/lib/python3.9/dist-packages (from aiohttp->openai) (1.3.3)\n",
            "Requirement already satisfied: yarl<2.0,>=1.0 in /usr/local/lib/python3.9/dist-packages (from aiohttp->openai) (1.8.2)\n",
            "Requirement already satisfied: attrs>=17.3.0 in /usr/local/lib/python3.9/dist-packages (from aiohttp->openai) (22.2.0)\n",
            "Requirement already satisfied: async-timeout<5.0,>=4.0.0a3 in /usr/local/lib/python3.9/dist-packages (from aiohttp->openai) (4.0.2)\n"
          ]
        }
      ],
      "source": [
        "!pip install openai"
      ]
    },
    {
      "cell_type": "markdown",
      "metadata": {
        "id": "mkjxkub7mJMW"
      },
      "source": [
        "#Generate form user input"
      ]
    },
    {
      "cell_type": "code",
      "execution_count": 12,
      "metadata": {
        "id": "AkX-Fm_vmNnp"
      },
      "outputs": [],
      "source": [
        "#@title Add info on your book\n",
        "\n",
        "\n",
        "Title_of_the_book = 'And Then There Were None' #@param {type:\"string\"}\n",
        "What_is_the_book_about = 'Eight people arrive on a small, isolated island off the Devon coast, each having received an unexpected personal invitation. They are met by the butler and cook/housekeeper, Thomas and Ethel Rogers, who explain that their hosts, Ulick Norman Owen and Una Nancy Owen, have not yet arrived, though they have left instructions.' #@param {type:\"string\"}\n",
        "What_is_the_chapter_about = '' #@param {type:\"string\"}\n",
        "Genre = \"Suspense , Thriller\" #@param {type:\"string\"}\n",
        "Lead_Characters = \"Anthony James Marston (Tony Marston), an amoral and irresponsible young man Thomas Rogers, the butler and Ethel Rogers' domineering husband Ethel Rogers, the cook/housekeeper and Thomas Rogers' wife General John Gordon MacArthur, a retired World War I war hero Emily Caroline Brent, an elderly, pious spinster Edward George Armstrong, a Harley Street doctor William Henry Blore, a former police inspector, now a private investigator Philip Lombard, a soldier of fortune Vera Elizabeth Claythorne, a young woman on leave from her position as a sports mistress at a girls' school Lawrence John Wargrave (Mr Justice Wargrave), a retired criminal judge Isaac Morris, the island's owner, a sleazy lawyer and drug trafficker\"#@param {type:\"string\"}\n",
        "Plot_of_the_book = \"Eight people arrive on a small, isolated island off the Devon coast, each having received an unexpected personal invitation. They are met by the butler and cook/housekeeper, Thomas and Ethel Rogers, who explain that their hosts, Ulick Norman Owen and Una Nancy Owen, have not yet arrived, though they have left instructions.\"#@param {type:\"string\"}"
      ]
    },
    {
      "cell_type": "code",
      "execution_count": 14,
      "metadata": {
        "colab": {
          "base_uri": "https://localhost:8080/"
        },
        "id": "s2qWV44FnABa",
        "outputId": "bd9a1da2-d99c-4615-f94e-62a8eadbe742"
      },
      "outputs": [
        {
          "name": "stdout",
          "output_type": "stream",
          "text": [
            "\n",
            "\n",
            "\n",
            "\n",
            "The eight guests soon realize that they have been brought together under mysterious circumstances. They quickly deduce that they each have a dark past, and that they are somehow connected to the mysterious disappearance of a group of ten children ten years prior. As they explore the island and its secrets, they begin to suspect that they are not alone. \n",
            "\n",
            "The guests begin to suspect that someone, or something, is stalking them. As the days pass and the tension mounts, the guests become increasingly suspicious of one another. They soon discover that each of them are connected to the mysterious disappearance of the ten children, and that each of them is in danger. \n",
            "\n",
            "The guests must now face their fears and confront the truth about their pasts in order to survive the island’s secrets. As the suspense builds, the guests soon find themselves in a desperate struggle against an unseen enemy.\n",
            "\n",
            "Chapter:\n",
            "The sun had just begun to set over the small, isolated island when the eight invited guests arrived. As they stepped off the boat, their eyes were met with the sight of a sprawling estate, shrouded in secrets and mystery. \n",
            "\n",
            "Leading the group was Anthony James Marston, a young, amoral and irresponsible man. He was followed by Thomas and Ethel Rogers, the butler and cook/housekeeper of the island. Ethel was a timid woman, controlled by her domineering husband Thomas. \n",
            "\n",
            "Next up was General John Gordon MacArthur, a retired World War I hero and Emily Caroline Brent, an elderly, pious spinster. Both of them had been invited to the island in mysterious circumstances, and were filled with a sense of dread about what the future may hold. \n",
            "\n",
            "The remaining four guests included Edward George Armstrong, a Harley Street doctor, William Henry Blore, a former police inspector now working as a private investigator, Philip Lombard, a soldier of fortune and Vera Elizabeth Claythorne, a young woman on leave from her position as a sports mistress at a girls' school. \n",
            "\n",
            "The eight guests soon realized that they had been brought together for a sinister reason. Thomas and Ethel informed them that their hosts, Ulick Norman Owen and Una Nancy Owen, had not yet arrived, though they had left instructions.\n",
            "\n",
            "The guests began to suspect that the mysterious invitation had something to do with the mysterious disappearance of a group of ten children ten years prior. They soon discovered that each of them were connected to the mysterious disappearance in some way. \n",
            "\n",
            "As they began to explore the island and its secrets, they noticed that someone, or something, was stalking them. Fear and suspicion quickly began to grow among the guests as they grew increasingly suspicious of one another. \n",
            "\n",
            "The guests also learned that the island was owned by Isaac Morris, a sleazy lawyer and drug trafficker. His presence on the island seemed to confirm the guests’ suspicions that something sinister was afoot. \n",
            "\n",
            "The guests were soon forced to confront their fears and their pasts in order to survive the island’s secrets. As the days passed and the tension mounted, they were soon in a desperate struggle against an unseen enemy. \n",
            "\n",
            "With each passing day, the guests were filled with a growing sense of dread. They were in a race against time to discover the truth before it was too late. The suspense was palpable, and the mystery of the island and its secrets seemed to be never-ending. \n",
            "\n",
            "As the guests grew more and more desperate, they began to realize that the only way to survive was to face their fears and their pasts. With their lives hanging in the balance, the eight guests must now fight for their survival and discover the truth about the island and its secrets before it is too late.\n",
            "\n",
            "\n",
            " That night, after dinner, they find a gramophone record with a recorded voice accusing each of them in turn of having committed murder and demanding that they confess.\n",
            "\n",
            "The group quickly finds itself under siege, as an unseen killer begins to pick them off one by one. As the body count rises and the mystery deepens, the survivors become increasingly desperate to discover the identity of the murderer.\n",
            "\n",
            "Chapter One of And Then There Were None\n",
            "\n",
            "The sun was setting over the island, an orange and pink sky painting the horizon with a brilliant light. Eight people had arrived on the small, isolated island off the Devon coast, each having received an unexpected personal invitation.\n",
            "\n",
            "Thomas and Ethel Rogers, the island's butler and cook/housekeeper, had greeted them at the dock and explained that their hosts, Ulick Norman Owen and Una Nancy Owen, had not yet arrived, though they had left instructions for the new arrivals. The guests had settled in for dinner, a strange mix of strangers brought together by an unseen force.\n",
            "\n",
            "As dinner ended and the guests began to retire for the night, a gramophone record began to play. It was a voice none of them had heard before, accusing each of them in turn of having committed murder and demanding that they confess.\n",
            "\n",
            "The group was stunned into silence, each of them reflecting on the accusation in their own way. Anthony James Marston, an amoral and irresponsible young man, was the first to break the silence. He scoffed at the accusation, trying to laugh it off. \n",
            "\n",
            "Thomas Rogers, the butler and Ethel Rogers' domineering husband, was the next to speak. He suggested that the record was a prank, though he could not explain why someone would go to such lengths to prank them. \n",
            "\n",
            "General John Gordon MacArthur, a retired World War I war hero, was the next to speak. He suggested that the record was connected to their host, the mysterious Ulick Norman Owen and Una Nancy Owen.\n",
            "\n",
            "Emily Caroline Brent, an elderly, pious spinster, was the next to speak. She suggested that the record was from God, as punishment for their sins. Edward George Armstrong, a Harley Street doctor, suggested that the record was from a madman.\n",
            "\n",
            "William Henry Blore, a former police inspector, now a private investigator, suggested that the record was from a criminal, seeking revenge for a crime long forgotten. Philip Lombard, a soldier of fortune, suggested that the record was from a rival seeking to do them harm. Vera Elizabeth Claythorne, a young woman on leave from her position as a sports mistress at a girls' school, suggested that the record was from an old enemy.\n",
            "\n",
            "Finally, Lawrence John Wargrave, a retired criminal judge, suggested that the record was from Isaac Morris, the island's owner, a sleazy lawyer and drug trafficker. He suggested that Morris was trying to scare them off the island.\n",
            "\n",
            "The group was left in stunned silence, each of them reflecting on the accusation in their own way. Little did they know that the mystery of the gramophone record was only the beginning of a terrifying journey that would leave them struggling for their lives.\n"
          ]
        }
      ],
      "source": [
        "a=0\n",
        "while a<=1:\n",
        "\n",
        "  import openai\n",
        "  openai.api_key = \"Your API Key Here\"\n",
        "\n",
        "  response = openai.Completion.create(\n",
        "    engine=\"text-davinci-003\",\n",
        "    prompt=\"generate a 2000-word book chapter of the \"+Genre+\" genre based on the following book description: \\nTitle of the book: \"+Title_of_the_book+\"\\nWhat is the book about: \"+What_is_the_book_about+\"\\nWhat is the chapter about: \"+What_is_the_chapter_about+\"\\nLead Characters: \"+Lead_Characters+\"\\nPlot of the book: \"+Plot_of_the_book,\n",
        "    temperature=0.7,\n",
        "    max_tokens=1000,\n",
        "  \n",
        "    top_p=1.0,\n",
        "    frequency_penalty=0.0,\n",
        "    presence_penalty=0.0\n",
        "  )#model\n",
        "  b=response\n",
        "  print(\"\\n\")\n",
        "  print(response.choices[0].text)#output\n",
        "  sus=response.choices[0].text\n",
        "  j=open(\"book.txt\",'a')\n",
        "  j.write(response.choices[0].text)\n",
        "  j.close()\n",
        "  a=a+1"
      ]
    }
  ],
  "metadata": {
    "colab": {
      "provenance": []
    },
    "kernelspec": {
      "display_name": "Python 3",
      "name": "python3"
    },
    "language_info": {
      "name": "python"
    }
  },
  "nbformat": 4,
  "nbformat_minor": 0
}
